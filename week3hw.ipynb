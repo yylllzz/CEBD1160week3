{
 "cells": [
  {
   "cell_type": "code",
   "execution_count": null,
   "metadata": {},
   "outputs": [],
   "source": [
    "i = 1\n",
    "type(i)\n",
    "\n",
    "i = 3.14\n",
    "type(i)\n",
    "\n",
    "i = \"Big Data!\"\n",
    "type(i)\n",
    "\n",
    "i = 'Big Data!'\n",
    "type(i)\n",
    "\n",
    "i=True\n",
    "type(i)\n",
    "\n",
    "i=False\n",
    "type(i)\n",
    "\n",
    "i = [1,2,\"intruder\",3]\n",
    "type(i)\n"
   ]
  },
  {
   "cell_type": "code",
   "execution_count": null,
   "metadata": {},
   "outputs": [],
   "source": [
    "a = 0\n",
    "\n",
    "for i in range(0,100):\n",
    " a = a+1\n",
    " print(a)\n",
    " if a%3 == 0 and a%5 == 0:\n",
    "   print(\"FizzBuzz\")\n",
    " elif a%5 == 0:\n",
    "   print(\"Buzz\")\n",
    " elif a%3 == 0:\n",
    "   print(\"Fizz\")"
   ]
  },
  {
   "cell_type": "code",
   "execution_count": null,
   "metadata": {},
   "outputs": [],
   "source": [
    "samplelist = [1,19,23,87,5,43,55]\n",
    "max_value = max(samplelist)\n",
    "print(max_value)\n",
    "min_value = min(samplelist)\n",
    "print(min_value)\n",
    "## find the sum of all the multiples of 3 or 5 below 1000\n",
    "a=0\n",
    "sum=0\n",
    "\n",
    "for i in range(0,1000):\n",
    "    a = a+1\n",
    "    if a%3 == 0 or a%5 == 0:\n",
    "        sum = sum + a\n",
    "\n",
    "print(sum)"
   ]
  },
  {
   "cell_type": "code",
   "execution_count": null,
   "metadata": {},
   "outputs": [],
   "source": [
    "string = input(\"Enter a string: \").lower()\n",
    "vowels = 'aeiou'\n",
    "\n",
    "for char in string:\n",
    "    if char in vowels:\n",
    "        string = string.replace(char,'')\n",
    "\n",
    "print(string)"
   ]
  },
  {
   "cell_type": "code",
   "execution_count": null,
   "metadata": {},
   "outputs": [],
   "source": [
    "inputstr = input(\"Enter a string: \")\n",
    "\n",
    "## use dictionary to do the count\n",
    "d = {}\n",
    "\n",
    "for char in inputstr:\n",
    "    d[char] = d.get(char,0) + 1\n",
    "\n",
    "sd = sorted(d.items())\n",
    "\n",
    "print(\"Character frequency :\\n\" + str(sd))"
   ]
  },
  {
   "cell_type": "code",
   "execution_count": null,
   "metadata": {},
   "outputs": [],
   "source": [
    "sentence = input(\"Enter a sentence: \").split(\" \")\n",
    "\n",
    "dw = {}\n",
    "\n",
    "for word in sentence:\n",
    "    dw[word] = dw.get(word,0) + 1\n",
    "\n",
    "print(\"Word frequency :\\n\" + str(dw))"
   ]
  },
  {
   "cell_type": "code",
   "execution_count": null,
   "metadata": {},
   "outputs": [],
   "source": [
    "s = input(\"Enter a comma separated squence of words: \").split(',')\n",
    "\n",
    "dc = {}\n",
    "\n",
    "for word in s:\n",
    "    dc[word] = dc.get(word,0) + 1\n",
    "\n",
    "sdc = sorted(dc.items())\n",
    "\n",
    "for k,v in sdc :\n",
    "    if v == 1:\n",
    "        print(k)"
   ]
  },
  {
   "cell_type": "code",
   "execution_count": null,
   "metadata": {},
   "outputs": [],
   "source": [
    "list1 = input(\"Enter the first list of numbers, minimum 4 items, seperated by commas: \").split(',')\n",
    "list2 = input(\"Enter the second list of numbers, minimum 4 items, seperated by commas: \").split(',')\n",
    "\n",
    "if (len(list1) < 4) or (len(list2) < 4):\n",
    "    print(\"Wrong list, please reenter\")\n",
    "\n",
    "l1 = []\n",
    "l2 = []\n",
    "\n",
    "for el in list1:\n",
    "    l1.append(int(el))\n",
    "\n",
    "for ell in list2:\n",
    "    l2.append(int(ell))\n",
    "\n",
    "l = l1 + l2\n",
    "\n",
    "l.sort()\n",
    "    \n",
    "l = set(l)\n",
    "\n",
    "print(l)"
   ]
  },
  {
   "cell_type": "code",
   "execution_count": null,
   "metadata": {},
   "outputs": [],
   "source": [
    "list1 = input(\"Enter the first list of numbers, minimum 4 items, seperated by commas: \").split(',')\n",
    "list2 = input(\"Enter the second list of numbers, minimum 4 items, seperated by commas: \").split(',')\n",
    "\n",
    "if (len(list1) < 4) or (len(list2) < 4):\n",
    "    print(\"Wrong list, please reenter\")\n",
    "\n",
    "l1 = []\n",
    "l2 = []\n",
    "\n",
    "for el in list1:\n",
    "    l1.append(int(el))\n",
    "\n",
    "for ell in list2:\n",
    "    l2.append(int(ell))\n",
    "\n",
    "l = l1 + l2\n",
    "\n",
    "l.sort()\n",
    "    \n",
    "l = set(l)\n",
    "ll = list(l)\n",
    "\n",
    "lc = ll\n",
    "\n",
    "lre = []\n",
    "\n",
    "def linc(x,y,z):\n",
    "    nx = z//x + 1\n",
    "    ny = z//y + 1\n",
    "    for i in range(1,nx):\n",
    "        for j in range(1,ny):\n",
    "            if (i*x + j*y == z):\n",
    "                return True\n",
    "    return False\n",
    "\n",
    "\n",
    "for z in ll:\n",
    "    for x in ll:\n",
    "        for y in ll:\n",
    "            if linc(x,y,z):\n",
    "                lre.append(z)\n",
    "\n",
    "for p in lre:\n",
    "    lc.remove(p)"
   ]
  }
 ],
 "metadata": {
  "kernelspec": {
   "display_name": "Python 3",
   "language": "python",
   "name": "python3"
  },
  "language_info": {
   "codemirror_mode": {
    "name": "ipython",
    "version": 3
   },
   "file_extension": ".py",
   "mimetype": "text/x-python",
   "name": "python",
   "nbconvert_exporter": "python",
   "pygments_lexer": "ipython3",
   "version": "3.7.1"
  }
 },
 "nbformat": 4,
 "nbformat_minor": 2
}
